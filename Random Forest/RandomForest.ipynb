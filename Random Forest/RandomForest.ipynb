{
 "cells": [
  {
   "cell_type": "code",
   "execution_count": 2,
   "metadata": {
    "id": "A4WJaM4NE4cf"
   },
   "outputs": [],
   "source": [
    "\n",
    "import numpy as np\n",
    "import pandas as pd\n",
    "import matplotlib.pyplot as plt\n",
    "from matplotlib import pyplot\n",
    "from sklearn.ensemble import RandomForestRegressor\n",
    "from sklearn.model_selection import ParameterGrid\n",
    "from sklearn import metrics\n",
    "%matplotlib inline\n"
   ]
  },
  {
   "cell_type": "code",
   "execution_count": 23,
   "metadata": {
    "colab": {
     "base_uri": "https://localhost:8080/"
    },
    "id": "fAxTEu8DFHB5",
    "outputId": "78c04fd0-2636-4e90-dc98-224ad272cd08"
   },
   "outputs": [
    {
     "name": "stdout",
     "output_type": "stream",
     "text": [
      "22545\n",
      "22545\n"
     ]
    },
    {
     "data": {
      "text/html": [
       "<div>\n",
       "<style scoped>\n",
       "    .dataframe tbody tr th:only-of-type {\n",
       "        vertical-align: middle;\n",
       "    }\n",
       "\n",
       "    .dataframe tbody tr th {\n",
       "        vertical-align: top;\n",
       "    }\n",
       "\n",
       "    .dataframe thead th {\n",
       "        text-align: right;\n",
       "    }\n",
       "</style>\n",
       "<table border=\"1\" class=\"dataframe\">\n",
       "  <thead>\n",
       "    <tr style=\"text-align: right;\">\n",
       "      <th></th>\n",
       "      <th>date</th>\n",
       "      <th>high</th>\n",
       "      <th>low</th>\n",
       "      <th>open</th>\n",
       "      <th>close</th>\n",
       "      <th>volume</th>\n",
       "      <th>adjclose</th>\n",
       "      <th>coin</th>\n",
       "    </tr>\n",
       "  </thead>\n",
       "  <tbody>\n",
       "    <tr>\n",
       "      <th>0</th>\n",
       "      <td>1483228800</td>\n",
       "      <td>1003.080017</td>\n",
       "      <td>958.698975</td>\n",
       "      <td>963.658020</td>\n",
       "      <td>0.965275</td>\n",
       "      <td>147775008.0</td>\n",
       "      <td>998.325012</td>\n",
       "      <td>BTC-USD</td>\n",
       "    </tr>\n",
       "    <tr>\n",
       "      <th>1</th>\n",
       "      <td>1483315200</td>\n",
       "      <td>1031.390015</td>\n",
       "      <td>996.702026</td>\n",
       "      <td>998.617004</td>\n",
       "      <td>0.977359</td>\n",
       "      <td>222184992.0</td>\n",
       "      <td>1021.750000</td>\n",
       "      <td>BTC-USD</td>\n",
       "    </tr>\n",
       "    <tr>\n",
       "      <th>2</th>\n",
       "      <td>1483401600</td>\n",
       "      <td>1044.079956</td>\n",
       "      <td>1021.599976</td>\n",
       "      <td>1021.599976</td>\n",
       "      <td>0.978694</td>\n",
       "      <td>185168000.0</td>\n",
       "      <td>1043.839966</td>\n",
       "      <td>BTC-USD</td>\n",
       "    </tr>\n",
       "    <tr>\n",
       "      <th>3</th>\n",
       "      <td>1483488000</td>\n",
       "      <td>1159.420044</td>\n",
       "      <td>1044.400024</td>\n",
       "      <td>1044.400024</td>\n",
       "      <td>0.904454</td>\n",
       "      <td>344945984.0</td>\n",
       "      <td>1154.729980</td>\n",
       "      <td>BTC-USD</td>\n",
       "    </tr>\n",
       "    <tr>\n",
       "      <th>4</th>\n",
       "      <td>1483574400</td>\n",
       "      <td>1191.099976</td>\n",
       "      <td>910.416992</td>\n",
       "      <td>1156.729980</td>\n",
       "      <td>1.141457</td>\n",
       "      <td>510199008.0</td>\n",
       "      <td>1013.380005</td>\n",
       "      <td>BTC-USD</td>\n",
       "    </tr>\n",
       "    <tr>\n",
       "      <th>...</th>\n",
       "      <td>...</td>\n",
       "      <td>...</td>\n",
       "      <td>...</td>\n",
       "      <td>...</td>\n",
       "      <td>...</td>\n",
       "      <td>...</td>\n",
       "      <td>...</td>\n",
       "      <td>...</td>\n",
       "    </tr>\n",
       "    <tr>\n",
       "      <th>22540</th>\n",
       "      <td>1637280000</td>\n",
       "      <td>0.599902</td>\n",
       "      <td>0.578802</td>\n",
       "      <td>0.587495</td>\n",
       "      <td>0.981075</td>\n",
       "      <td>18297714.0</td>\n",
       "      <td>0.598828</td>\n",
       "      <td>STEEM-USD</td>\n",
       "    </tr>\n",
       "    <tr>\n",
       "      <th>22541</th>\n",
       "      <td>1637366400</td>\n",
       "      <td>0.629454</td>\n",
       "      <td>0.592715</td>\n",
       "      <td>0.598567</td>\n",
       "      <td>0.962636</td>\n",
       "      <td>24017942.0</td>\n",
       "      <td>0.621800</td>\n",
       "      <td>STEEM-USD</td>\n",
       "    </tr>\n",
       "    <tr>\n",
       "      <th>22542</th>\n",
       "      <td>1637452800</td>\n",
       "      <td>0.636343</td>\n",
       "      <td>0.612385</td>\n",
       "      <td>0.622577</td>\n",
       "      <td>1.016643</td>\n",
       "      <td>20991912.0</td>\n",
       "      <td>0.612385</td>\n",
       "      <td>STEEM-USD</td>\n",
       "    </tr>\n",
       "    <tr>\n",
       "      <th>22543</th>\n",
       "      <td>1637539200</td>\n",
       "      <td>0.616244</td>\n",
       "      <td>0.586800</td>\n",
       "      <td>0.611114</td>\n",
       "      <td>1.035923</td>\n",
       "      <td>21138903.0</td>\n",
       "      <td>0.589922</td>\n",
       "      <td>STEEM-USD</td>\n",
       "    </tr>\n",
       "    <tr>\n",
       "      <th>22544</th>\n",
       "      <td>1637709604</td>\n",
       "      <td>0.637262</td>\n",
       "      <td>0.585924</td>\n",
       "      <td>0.590799</td>\n",
       "      <td>0.946083</td>\n",
       "      <td>34969396.0</td>\n",
       "      <td>0.624468</td>\n",
       "      <td>STEEM-USD</td>\n",
       "    </tr>\n",
       "  </tbody>\n",
       "</table>\n",
       "<p>22545 rows × 8 columns</p>\n",
       "</div>"
      ],
      "text/plain": [
       "             date         high          low         open     close  \\\n",
       "0      1483228800  1003.080017   958.698975   963.658020  0.965275   \n",
       "1      1483315200  1031.390015   996.702026   998.617004  0.977359   \n",
       "2      1483401600  1044.079956  1021.599976  1021.599976  0.978694   \n",
       "3      1483488000  1159.420044  1044.400024  1044.400024  0.904454   \n",
       "4      1483574400  1191.099976   910.416992  1156.729980  1.141457   \n",
       "...           ...          ...          ...          ...       ...   \n",
       "22540  1637280000     0.599902     0.578802     0.587495  0.981075   \n",
       "22541  1637366400     0.629454     0.592715     0.598567  0.962636   \n",
       "22542  1637452800     0.636343     0.612385     0.622577  1.016643   \n",
       "22543  1637539200     0.616244     0.586800     0.611114  1.035923   \n",
       "22544  1637709604     0.637262     0.585924     0.590799  0.946083   \n",
       "\n",
       "            volume     adjclose       coin  \n",
       "0      147775008.0   998.325012    BTC-USD  \n",
       "1      222184992.0  1021.750000    BTC-USD  \n",
       "2      185168000.0  1043.839966    BTC-USD  \n",
       "3      344945984.0  1154.729980    BTC-USD  \n",
       "4      510199008.0  1013.380005    BTC-USD  \n",
       "...            ...          ...        ...  \n",
       "22540   18297714.0     0.598828  STEEM-USD  \n",
       "22541   24017942.0     0.621800  STEEM-USD  \n",
       "22542   20991912.0     0.612385  STEEM-USD  \n",
       "22543   21138903.0     0.589922  STEEM-USD  \n",
       "22544   34969396.0     0.624468  STEEM-USD  \n",
       "\n",
       "[22545 rows x 8 columns]"
      ]
     },
     "execution_count": 23,
     "metadata": {},
     "output_type": "execute_result"
    }
   ],
   "source": [
    "file_name = 'crypto_data_2.csv'\n",
    "df = pd.read_csv(file_name)\n",
    "print(len(df))\n",
    "# print(df)\n",
    "\n",
    "#df['date'] = pd.to_datetime(df['date'])\n",
    "\n",
    "df.drop(columns=['formatted_date'], inplace=True)\n",
    "\n",
    "df.index = range(len(df))\n",
    "\n",
    "\n",
    "df.dropna(inplace=True)\n",
    "print(len(df))\n",
    "df.reset_index(drop=True)\n",
    "\n",
    "df.isnull().values.any()\n",
    "df"
   ]
  },
  {
   "cell_type": "code",
   "execution_count": 24,
   "metadata": {
    "colab": {
     "base_uri": "https://localhost:8080/"
    },
    "id": "id8L5Q13FZWj",
    "outputId": "c67adbd0-0f33-4129-e11d-6a45ce9ab2a8"
   },
   "outputs": [
    {
     "data": {
      "text/plain": [
       "False"
      ]
     },
     "execution_count": 24,
     "metadata": {},
     "output_type": "execute_result"
    }
   ],
   "source": [
    "\n",
    "df['SMA_14'] = df['close'].rolling(14).mean().shift()\n",
    "df['SMA_30'] = df['close'].rolling(20).mean().shift()\n",
    "df['SMA_50'] = df['close'].rolling(50).mean().shift()\n",
    "df['SMA_200'] = df['close'].rolling(200).mean().shift()\n",
    "\n",
    "\n",
    "\n",
    "def relative_strength_idx(df, n=14):\n",
    "    close = df['close']\n",
    "    delta = close.diff()\n",
    "    delta = delta[1:]\n",
    "    pricesUp = delta.copy()\n",
    "    pricesDown = delta.copy()\n",
    "    pricesUp[pricesUp < 0] = 0\n",
    "    pricesDown[pricesDown > 0] = 0\n",
    "    rollUp = pricesUp.rolling(n).mean()\n",
    "    rollDown = pricesDown.abs().rolling(n).mean()\n",
    "    rs = rollUp / rollDown\n",
    "    rsi = 100.0 - (100.0 / (1.0 + rs))\n",
    "    return rsi\n",
    "\n",
    "df['RSI_14'] = relative_strength_idx(df, 14).fillna(0)\n",
    "df['RSI_30'] = relative_strength_idx(df, 30).fillna(0)\n",
    "df['RSI_50'] = relative_strength_idx(df, 50).fillna(0)\n",
    "df['RSI_200'] = relative_strength_idx(df, 200).fillna(0)\n",
    "\n",
    "df.dropna(inplace=True)\n",
    "df.isnull().values.any()\n",
    "\n"
   ]
  },
  {
   "cell_type": "code",
   "execution_count": 25,
   "metadata": {
    "id": "tYooT-qsGpJv"
   },
   "outputs": [],
   "source": [
    "test_size  = 0.15\n",
    "valid_size = 0.15\n",
    "\n",
    "\n",
    "test_split_idx  = int(df.shape[0] * (1-test_size))\n",
    "valid_split_idx = int(df.shape[0] * (1-(valid_size+test_size)))\n",
    "\n",
    "train_df  = df.loc[:valid_split_idx].copy()\n",
    "valid_df  = df.loc[valid_split_idx+1:test_split_idx].copy()\n",
    "test_df   = df.loc[test_split_idx+1:].copy()\n",
    "\n"
   ]
  },
  {
   "cell_type": "code",
   "execution_count": 27,
   "metadata": {
    "colab": {
     "base_uri": "https://localhost:8080/",
     "height": 206
    },
    "id": "95Oee-IlGsA6",
    "outputId": "ac91cb2b-2363-424d-e5c3-75762024610c"
   },
   "outputs": [
    {
     "name": "stderr",
     "output_type": "stream",
     "text": [
      "<ipython-input-27-fbc530f1f6be>:3: FutureWarning: In a future version of pandas all arguments of DataFrame.drop except for the argument 'labels' will be keyword-only\n",
      "  train_df = train_df.drop(drop_cols, 1)\n",
      "<ipython-input-27-fbc530f1f6be>:4: FutureWarning: In a future version of pandas all arguments of DataFrame.drop except for the argument 'labels' will be keyword-only\n",
      "  valid_df = valid_df.drop(drop_cols, 1)\n",
      "<ipython-input-27-fbc530f1f6be>:5: FutureWarning: In a future version of pandas all arguments of DataFrame.drop except for the argument 'labels' will be keyword-only\n",
      "  test_df  = test_df.drop(drop_cols, 1)\n"
     ]
    },
    {
     "data": {
      "text/html": [
       "<div>\n",
       "<style scoped>\n",
       "    .dataframe tbody tr th:only-of-type {\n",
       "        vertical-align: middle;\n",
       "    }\n",
       "\n",
       "    .dataframe tbody tr th {\n",
       "        vertical-align: top;\n",
       "    }\n",
       "\n",
       "    .dataframe thead th {\n",
       "        text-align: right;\n",
       "    }\n",
       "</style>\n",
       "<table border=\"1\" class=\"dataframe\">\n",
       "  <thead>\n",
       "    <tr style=\"text-align: right;\">\n",
       "      <th></th>\n",
       "      <th>close</th>\n",
       "      <th>SMA_14</th>\n",
       "      <th>SMA_30</th>\n",
       "      <th>SMA_50</th>\n",
       "      <th>SMA_200</th>\n",
       "      <th>RSI_14</th>\n",
       "      <th>RSI_30</th>\n",
       "      <th>RSI_50</th>\n",
       "      <th>RSI_200</th>\n",
       "    </tr>\n",
       "  </thead>\n",
       "  <tbody>\n",
       "    <tr>\n",
       "      <th>18994</th>\n",
       "      <td>0.994694</td>\n",
       "      <td>0.988680</td>\n",
       "      <td>0.991458</td>\n",
       "      <td>0.997399</td>\n",
       "      <td>1.002648</td>\n",
       "      <td>55.120969</td>\n",
       "      <td>49.700799</td>\n",
       "      <td>50.348977</td>\n",
       "      <td>50.107496</td>\n",
       "    </tr>\n",
       "    <tr>\n",
       "      <th>18995</th>\n",
       "      <td>0.980095</td>\n",
       "      <td>0.995651</td>\n",
       "      <td>0.990617</td>\n",
       "      <td>0.997776</td>\n",
       "      <td>1.002800</td>\n",
       "      <td>43.465585</td>\n",
       "      <td>48.904010</td>\n",
       "      <td>50.419954</td>\n",
       "      <td>50.130631</td>\n",
       "    </tr>\n",
       "    <tr>\n",
       "      <th>18996</th>\n",
       "      <td>1.023308</td>\n",
       "      <td>0.988349</td>\n",
       "      <td>0.992081</td>\n",
       "      <td>0.998229</td>\n",
       "      <td>1.002986</td>\n",
       "      <td>45.323731</td>\n",
       "      <td>50.826099</td>\n",
       "      <td>49.746412</td>\n",
       "      <td>49.930806</td>\n",
       "    </tr>\n",
       "    <tr>\n",
       "      <th>18997</th>\n",
       "      <td>0.986650</td>\n",
       "      <td>0.982946</td>\n",
       "      <td>0.992157</td>\n",
       "      <td>0.997959</td>\n",
       "      <td>1.002888</td>\n",
       "      <td>48.424965</td>\n",
       "      <td>49.734887</td>\n",
       "      <td>49.845169</td>\n",
       "      <td>49.546458</td>\n",
       "    </tr>\n",
       "    <tr>\n",
       "      <th>18998</th>\n",
       "      <td>0.987586</td>\n",
       "      <td>0.981243</td>\n",
       "      <td>0.990245</td>\n",
       "      <td>0.997795</td>\n",
       "      <td>1.002249</td>\n",
       "      <td>50.911394</td>\n",
       "      <td>49.985853</td>\n",
       "      <td>49.516593</td>\n",
       "      <td>49.736690</td>\n",
       "    </tr>\n",
       "  </tbody>\n",
       "</table>\n",
       "</div>"
      ],
      "text/plain": [
       "          close    SMA_14    SMA_30    SMA_50   SMA_200     RSI_14     RSI_30  \\\n",
       "18994  0.994694  0.988680  0.991458  0.997399  1.002648  55.120969  49.700799   \n",
       "18995  0.980095  0.995651  0.990617  0.997776  1.002800  43.465585  48.904010   \n",
       "18996  1.023308  0.988349  0.992081  0.998229  1.002986  45.323731  50.826099   \n",
       "18997  0.986650  0.982946  0.992157  0.997959  1.002888  48.424965  49.734887   \n",
       "18998  0.987586  0.981243  0.990245  0.997795  1.002249  50.911394  49.985853   \n",
       "\n",
       "          RSI_50    RSI_200  \n",
       "18994  50.348977  50.107496  \n",
       "18995  50.419954  50.130631  \n",
       "18996  49.746412  49.930806  \n",
       "18997  49.845169  49.546458  \n",
       "18998  49.516593  49.736690  "
      ]
     },
     "execution_count": 27,
     "metadata": {},
     "output_type": "execute_result"
    }
   ],
   "source": [
    "drop_cols = ['date', 'volume', 'open', 'low', 'high', 'adjclose', 'coin']\n",
    "\n",
    "train_df = train_df.drop(drop_cols, 1)\n",
    "valid_df = valid_df.drop(drop_cols, 1)\n",
    "test_df  = test_df.drop(drop_cols, 1)\n",
    "\n",
    "test_df['close'].values\n",
    "\n",
    "test_df.head()"
   ]
  },
  {
   "cell_type": "code",
   "execution_count": 28,
   "metadata": {
    "colab": {
     "base_uri": "https://localhost:8080/"
    },
    "id": "W_TtN-IOG8ww",
    "outputId": "fa45477b-4f0c-4196-b579-5e6c7e7767d5"
   },
   "outputs": [
    {
     "name": "stdout",
     "output_type": "stream",
     "text": [
      "18994    0.994694\n",
      "18995    0.980095\n",
      "18996    1.023308\n",
      "18997    0.986650\n",
      "18998    0.987586\n",
      "           ...   \n",
      "22540    0.981075\n",
      "22541    0.962636\n",
      "22542    1.016643\n",
      "22543    1.035923\n",
      "22544    0.946083\n",
      "Name: close, Length: 3551, dtype: float64\n",
      "[-0.06184639 -0.27629122  0.35850667 ...  0.26059347  0.54381937\n",
      " -0.77594024]\n"
     ]
    },
    {
     "name": "stderr",
     "output_type": "stream",
     "text": [
      "<ipython-input-28-bfd8939be789>:2: FutureWarning: In a future version of pandas all arguments of DataFrame.drop except for the argument 'labels' will be keyword-only\n",
      "  X_train = train_df.drop(['close'], 1).values\n",
      "<ipython-input-28-bfd8939be789>:5: FutureWarning: In a future version of pandas all arguments of DataFrame.drop except for the argument 'labels' will be keyword-only\n",
      "  X_valid = valid_df.drop(['close'], 1).values\n",
      "<ipython-input-28-bfd8939be789>:9: FutureWarning: In a future version of pandas all arguments of DataFrame.drop except for the argument 'labels' will be keyword-only\n",
      "  X_test  = test_df.drop(['close'], 1).values\n"
     ]
    }
   ],
   "source": [
    "y_train = train_df['close'].copy().values\n",
    "X_train = train_df.drop(['close'], 1).values\n",
    "\n",
    "y_valid = valid_df['close'].copy().values\n",
    "X_valid = valid_df.drop(['close'], 1).values\n",
    "\n",
    "print(test_df['close'])\n",
    "y_test  = test_df['close'].copy().values\n",
    "X_test  = test_df.drop(['close'], 1).values\n",
    "\n",
    "mean = y_train.mean()\n",
    "sd = y_train.std()\n",
    "y_train = (y_train - mean)/sd\n",
    "y_valid = (y_valid - mean)/sd\n",
    "y_test = (y_test - mean)/sd\n",
    "print(y_test )"
   ]
  },
  {
   "cell_type": "code",
   "execution_count": 29,
   "metadata": {
    "colab": {
     "base_uri": "https://localhost:8080/"
    },
    "id": "lIWn430KG0Ft",
    "outputId": "e09ee6b7-cff2-4c64-efe1-c604bf025d00"
   },
   "outputs": [
    {
     "name": "stdout",
     "output_type": "stream",
     "text": [
      "0.6360433966320848 {'random_state': 42, 'n_estimators': 200, 'max_features': 4, 'max_depth': 3}\n"
     ]
    }
   ],
   "source": [
    "grid = {'n_estimators': [200], 'max_depth': [3], 'max_features': [4, 8], 'random_state': [42]}\n",
    "test_scores = []\n",
    "\n",
    "rf_model = RandomForestRegressor()\n",
    "\n",
    "\n",
    "for g in ParameterGrid(grid):\n",
    "    rf_model.set_params(**g) \n",
    "    rf_model.fit(X_train, y_train)\n",
    "    test_scores.append(rf_model.score(X_test, y_test))\n",
    "\n",
    "best_index = np.argmax(test_scores)\n",
    "print(test_scores[best_index], ParameterGrid(grid)[best_index])\n"
   ]
  },
  {
   "cell_type": "code",
   "execution_count": 30,
   "metadata": {
    "id": "DCKDcMt3wr2r"
   },
   "outputs": [],
   "source": [
    "rf_model = RandomForestRegressor(n_estimators=200, max_depth=3, max_features=4, random_state=42)\n",
    "rf_model.fit(X_train, y_train)\n",
    "\n",
    "y_pred = rf_model.predict(X_test)\n",
    "\n"
   ]
  },
  {
   "cell_type": "code",
   "execution_count": 31,
   "metadata": {
    "colab": {
     "base_uri": "https://localhost:8080/"
    },
    "id": "XOwy4elpwyMw",
    "outputId": "0795b7c1-e16b-4c68-b6c2-fa8de513e101"
   },
   "outputs": [
    {
     "name": "stdout",
     "output_type": "stream",
     "text": [
      "Mean Absolute Error: 0.43915531136847047\n",
      "Mean Squared Error: 0.43897470351369333\n",
      "Root Mean Squared Error: 0.6625516610149682\n"
     ]
    }
   ],
   "source": [
    "print('Mean Absolute Error:', metrics.mean_absolute_error(y_test, y_pred))\n",
    "print('Mean Squared Error:', metrics.mean_squared_error(y_test, y_pred))\n",
    "print('Root Mean Squared Error:', np.sqrt(metrics.mean_squared_error(y_test, y_pred)))"
   ]
  },
  {
   "cell_type": "code",
   "execution_count": 32,
   "metadata": {
    "colab": {
     "base_uri": "https://localhost:8080/",
     "height": 262
    },
    "id": "fc_HpSs6w1K2",
    "outputId": "9ee3f28b-91b4-4d86-de1c-73260728f8df"
   },
   "outputs": [
    {
     "data": {
      "image/png": "[encoded data removed]",
      "text/plain": [
       "<Figure size 432x288 with 1 Axes>"
      ]
     },
     "metadata": {
      "needs_background": "light"
     },
     "output_type": "display_data"
    }
   ],
   "source": [
    "importances = rf_model.feature_importances_\n",
    "sorted_index = np.argsort(importances)[::-1]\n",
    "x_values = range(len(importances))\n",
    "\n",
    "plt.bar(x_values, importances[sorted_index])\n",
    "plt.xticks(rotation=90)\n",
    "plt.show()"
   ]
  }
 ],
 "metadata": {
  "colab": {
   "collapsed_sections": [],
   "name": "RandomForest.ipynb",
   "provenance": []
  },
  "kernelspec": {
   "display_name": "Python 3",
   "language": "python",
   "name": "python3"
  },
  "language_info": {
   "codemirror_mode": {
    "name": "ipython",
    "version": 3
   },
   "file_extension": ".py",
   "mimetype": "text/x-python",
   "name": "python",
   "nbconvert_exporter": "python",
   "pygments_lexer": "ipython3",
   "version": "3.8.8"
  }
 },
 "nbformat": 4,
 "nbformat_minor": 1
}
