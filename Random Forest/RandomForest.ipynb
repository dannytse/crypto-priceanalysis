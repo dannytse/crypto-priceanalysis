{
  "nbformat": 4,
  "nbformat_minor": 0,
  "metadata": {
    "colab": {
      "name": "RandomForest.ipynb",
      "provenance": [],
      "collapsed_sections": []
    },
    "kernelspec": {
      "name": "python3",
      "display_name": "Python 3"
    },
    "language_info": {
      "name": "python"
    }
  },
  "cells": [
    {
      "cell_type": "code",
      "metadata": {
        "id": "A4WJaM4NE4cf"
      },
      "source": [
        "\n",
        "import numpy as np\n",
        "import pandas as pd\n",
        "import matplotlib.pyplot as plt\n",
        "from matplotlib import pyplot\n",
        "from sklearn.ensemble import RandomForestRegressor\n",
        "from sklearn.model_selection import ParameterGrid\n",
        "from sklearn import metrics\n",
        "%matplotlib inline\n"
      ],
      "execution_count": 2,
      "outputs": []
    },
    {
      "cell_type": "code",
      "metadata": {
        "colab": {
          "base_uri": "https://localhost:8080/"
        },
        "id": "fAxTEu8DFHB5",
        "outputId": "78c04fd0-2636-4e90-dc98-224ad272cd08"
      },
      "source": [
        "file_name = 'crypto_data_2.csv'\n",
        "df = pd.read_csv(file_name)\n",
        "print(len(df))\n",
        "\n",
        "#df['date'] = pd.to_datetime(df['date'])\n",
        "\n",
        "\n",
        "\n",
        "df.index = range(len(df))\n",
        "\n",
        "\n",
        "df.dropna(inplace=True)\n",
        "df.reset_index(drop=True)\n",
        "\n",
        "df.isnull().values.any()\n"
      ],
      "execution_count": 3,
      "outputs": [
        {
          "output_type": "stream",
          "name": "stdout",
          "text": [
            "22545\n"
          ]
        },
        {
          "output_type": "execute_result",
          "data": {
            "text/plain": [
              "False"
            ]
          },
          "metadata": {},
          "execution_count": 3
        }
      ]
    },
    {
      "cell_type": "code",
      "metadata": {
        "colab": {
          "base_uri": "https://localhost:8080/"
        },
        "id": "id8L5Q13FZWj",
        "outputId": "c67adbd0-0f33-4129-e11d-6a45ce9ab2a8"
      },
      "source": [
        "\n",
        "df['SMA_14'] = df['close'].rolling(14).mean().shift()\n",
        "df['SMA_30'] = df['close'].rolling(20).mean().shift()\n",
        "df['SMA_50'] = df['close'].rolling(50).mean().shift()\n",
        "df['SMA_200'] = df['close'].rolling(200).mean().shift()\n",
        "\n",
        "\n",
        "\n",
        "def relative_strength_idx(df, n=14):\n",
        "    close = df['close']\n",
        "    delta = close.diff()\n",
        "    delta = delta[1:]\n",
        "    pricesUp = delta.copy()\n",
        "    pricesDown = delta.copy()\n",
        "    pricesUp[pricesUp < 0] = 0\n",
        "    pricesDown[pricesDown > 0] = 0\n",
        "    rollUp = pricesUp.rolling(n).mean()\n",
        "    rollDown = pricesDown.abs().rolling(n).mean()\n",
        "    rs = rollUp / rollDown\n",
        "    rsi = 100.0 - (100.0 / (1.0 + rs))\n",
        "    return rsi\n",
        "\n",
        "df['RSI_14'] = relative_strength_idx(df, 14).fillna(0)\n",
        "df['RSI_30'] = relative_strength_idx(df, 30).fillna(0)\n",
        "df['RSI_50'] = relative_strength_idx(df, 50).fillna(0)\n",
        "df['RSI_200'] = relative_strength_idx(df, 200).fillna(0)\n",
        "\n",
        "df.dropna(inplace=True)\n",
        "df.isnull().values.any()\n",
        "\n"
      ],
      "execution_count": 4,
      "outputs": [
        {
          "output_type": "execute_result",
          "data": {
            "text/plain": [
              "False"
            ]
          },
          "metadata": {},
          "execution_count": 4
        }
      ]
    },
    {
      "cell_type": "code",
      "metadata": {
        "id": "tYooT-qsGpJv"
      },
      "source": [
        "test_size  = 0.15\n",
        "valid_size = 0.15\n",
        "\n",
        "\n",
        "test_split_idx  = int(df.shape[0] * (1-test_size))\n",
        "valid_split_idx = int(df.shape[0] * (1-(valid_size+test_size)))\n",
        "\n",
        "train_df  = df.loc[:valid_split_idx].copy()\n",
        "valid_df  = df.loc[valid_split_idx+1:test_split_idx].copy()\n",
        "test_df   = df.loc[test_split_idx+1:].copy()\n",
        "\n"
      ],
      "execution_count": 5,
      "outputs": []
    },
    {
      "cell_type": "code",
      "metadata": {
        "colab": {
          "base_uri": "https://localhost:8080/",
          "height": 206
        },
        "id": "95Oee-IlGsA6",
        "outputId": "ac91cb2b-2363-424d-e5c3-75762024610c"
      },
      "source": [
        "drop_cols = ['date', 'volume', 'open', 'low', 'high', 'adjclose', 'formatted_date', 'coin']\n",
        "\n",
        "train_df = train_df.drop(drop_cols, 1)\n",
        "valid_df = valid_df.drop(drop_cols, 1)\n",
        "test_df  = test_df.drop(drop_cols, 1)\n",
        "\n",
        "test_df['close'].values\n",
        "\n",
        "test_df.head()"
      ],
      "execution_count": 6,
      "outputs": [
        {
          "output_type": "execute_result",
          "data": {
            "text/html": [
              "<div>\n",
              "<style scoped>\n",
              "    .dataframe tbody tr th:only-of-type {\n",
              "        vertical-align: middle;\n",
              "    }\n",
              "\n",
              "    .dataframe tbody tr th {\n",
              "        vertical-align: top;\n",
              "    }\n",
              "\n",
              "    .dataframe thead th {\n",
              "        text-align: right;\n",
              "    }\n",
              "</style>\n",
              "<table border=\"1\" class=\"dataframe\">\n",
              "  <thead>\n",
              "    <tr style=\"text-align: right;\">\n",
              "      <th></th>\n",
              "      <th>close</th>\n",
              "      <th>SMA_14</th>\n",
              "      <th>SMA_30</th>\n",
              "      <th>SMA_50</th>\n",
              "      <th>SMA_200</th>\n",
              "      <th>RSI_14</th>\n",
              "      <th>RSI_30</th>\n",
              "      <th>RSI_50</th>\n",
              "      <th>RSI_200</th>\n",
              "    </tr>\n",
              "  </thead>\n",
              "  <tbody>\n",
              "    <tr>\n",
              "      <th>5366</th>\n",
              "      <td>0.967830</td>\n",
              "      <td>1.003164</td>\n",
              "      <td>1.004300</td>\n",
              "      <td>1.002446</td>\n",
              "      <td>0.998736</td>\n",
              "      <td>49.953183</td>\n",
              "      <td>49.500356</td>\n",
              "      <td>49.077884</td>\n",
              "      <td>49.617450</td>\n",
              "    </tr>\n",
              "    <tr>\n",
              "      <th>5367</th>\n",
              "      <td>0.969273</td>\n",
              "      <td>1.003127</td>\n",
              "      <td>1.004371</td>\n",
              "      <td>1.001773</td>\n",
              "      <td>0.998420</td>\n",
              "      <td>50.898173</td>\n",
              "      <td>48.318219</td>\n",
              "      <td>48.710551</td>\n",
              "      <td>49.933870</td>\n",
              "    </tr>\n",
              "    <tr>\n",
              "      <th>5368</th>\n",
              "      <td>1.016235</td>\n",
              "      <td>1.003819</td>\n",
              "      <td>1.007022</td>\n",
              "      <td>1.000838</td>\n",
              "      <td>0.998366</td>\n",
              "      <td>47.306573</td>\n",
              "      <td>50.197792</td>\n",
              "      <td>51.377853</td>\n",
              "      <td>50.025363</td>\n",
              "    </tr>\n",
              "    <tr>\n",
              "      <th>5369</th>\n",
              "      <td>0.969162</td>\n",
              "      <td>1.001887</td>\n",
              "      <td>1.003822</td>\n",
              "      <td>1.001835</td>\n",
              "      <td>0.998387</td>\n",
              "      <td>47.415847</td>\n",
              "      <td>49.392930</td>\n",
              "      <td>49.577168</td>\n",
              "      <td>49.915929</td>\n",
              "    </tr>\n",
              "    <tr>\n",
              "      <th>5370</th>\n",
              "      <td>1.010253</td>\n",
              "      <td>1.000037</td>\n",
              "      <td>0.996762</td>\n",
              "      <td>1.001525</td>\n",
              "      <td>0.998318</td>\n",
              "      <td>52.181336</td>\n",
              "      <td>50.894251</td>\n",
              "      <td>49.128424</td>\n",
              "      <td>50.261669</td>\n",
              "    </tr>\n",
              "  </tbody>\n",
              "</table>\n",
              "</div>"
            ],
            "text/plain": [
              "         close    SMA_14    SMA_30  ...     RSI_30     RSI_50    RSI_200\n",
              "5366  0.967830  1.003164  1.004300  ...  49.500356  49.077884  49.617450\n",
              "5367  0.969273  1.003127  1.004371  ...  48.318219  48.710551  49.933870\n",
              "5368  1.016235  1.003819  1.007022  ...  50.197792  51.377853  50.025363\n",
              "5369  0.969162  1.001887  1.003822  ...  49.392930  49.577168  49.915929\n",
              "5370  1.010253  1.000037  0.996762  ...  50.894251  49.128424  50.261669\n",
              "\n",
              "[5 rows x 9 columns]"
            ]
          },
          "metadata": {},
          "execution_count": 6
        }
      ]
    },
    {
      "cell_type": "code",
      "metadata": {
        "colab": {
          "base_uri": "https://localhost:8080/"
        },
        "id": "W_TtN-IOG8ww",
        "outputId": "fa45477b-4f0c-4196-b579-5e6c7e7767d5"
      },
      "source": [
        "y_train = train_df['close'].copy().values\n",
        "X_train = train_df.drop(['close'], 1).values\n",
        "\n",
        "y_valid = valid_df['close'].copy().values\n",
        "X_valid = valid_df.drop(['close'], 1).values\n",
        "\n",
        "print(test_df['close'])\n",
        "y_test  = test_df['close'].copy().values\n",
        "X_test  = test_df.drop(['close'], 1).values"
      ],
      "execution_count": 7,
      "outputs": [
        {
          "output_type": "stream",
          "name": "stdout",
          "text": [
            "5366    0.967830\n",
            "5367    0.969273\n",
            "5368    1.016235\n",
            "5369    0.969162\n",
            "5370    1.010253\n",
            "          ...   \n",
            "6507    0.930187\n",
            "6508    1.084008\n",
            "6509    1.015735\n",
            "6510    1.019075\n",
            "6511    0.924013\n",
            "Name: close, Length: 1146, dtype: float64\n"
          ]
        }
      ]
    },
    {
      "cell_type": "code",
      "metadata": {
        "colab": {
          "base_uri": "https://localhost:8080/"
        },
        "id": "lIWn430KG0Ft",
        "outputId": "e09ee6b7-cff2-4c64-efe1-c604bf025d00"
      },
      "source": [
        "grid = {'n_estimators': [200], 'max_depth': [3], 'max_features': [4, 8], 'random_state': [42]}\n",
        "test_scores = []\n",
        "\n",
        "rf_model = RandomForestRegressor()\n",
        "\n",
        "\n",
        "for g in ParameterGrid(grid):\n",
        "    rf_model.set_params(**g) \n",
        "    rf_model.fit(X_train, y_train)\n",
        "    test_scores.append(rf_model.score(X_test, y_test))\n",
        "\n",
        "best_index = np.argmax(test_scores)\n",
        "print(test_scores[best_index], ParameterGrid(grid)[best_index])\n"
      ],
      "execution_count": 8,
      "outputs": [
        {
          "output_type": "stream",
          "name": "stdout",
          "text": [
            "0.5867572217040726 {'random_state': 42, 'n_estimators': 200, 'max_features': 4, 'max_depth': 3}\n"
          ]
        }
      ]
    },
    {
      "cell_type": "code",
      "metadata": {
        "id": "DCKDcMt3wr2r"
      },
      "source": [
        "rf_model = RandomForestRegressor(n_estimators=200, max_depth=3, max_features=4, random_state=42)\n",
        "rf_model.fit(X_train, y_train)\n",
        "\n",
        "y_pred = rf_model.predict(X_test)\n",
        "\n"
      ],
      "execution_count": 10,
      "outputs": []
    },
    {
      "cell_type": "code",
      "metadata": {
        "colab": {
          "base_uri": "https://localhost:8080/"
        },
        "id": "XOwy4elpwyMw",
        "outputId": "0795b7c1-e16b-4c68-b6c2-fa8de513e101"
      },
      "source": [
        "print('Mean Absolute Error:', metrics.mean_absolute_error(y_test, y_pred))\n",
        "print('Mean Squared Error:', metrics.mean_squared_error(y_test, y_pred))\n",
        "print('Root Mean Squared Error:', np.sqrt(metrics.mean_squared_error(y_test, y_pred)))"
      ],
      "execution_count": 11,
      "outputs": [
        {
          "output_type": "stream",
          "name": "stdout",
          "text": [
            "Mean Absolute Error: 0.03479303043663848\n",
            "Mean Squared Error: 0.0027922826140866926\n",
            "Root Mean Squared Error: 0.05284205346205513\n"
          ]
        }
      ]
    },
    {
      "cell_type": "code",
      "metadata": {
        "colab": {
          "base_uri": "https://localhost:8080/",
          "height": 262
        },
        "id": "fc_HpSs6w1K2",
        "outputId": "9ee3f28b-91b4-4d86-de1c-73260728f8df"
      },
      "source": [
        "importances = rf_model.feature_importances_\n",
        "sorted_index = np.argsort(importances)[::-1]\n",
        "x_values = range(len(importances))\n",
        "\n",
        "plt.bar(x_values, importances[sorted_index])\n",
        "plt.xticks(rotation=90)\n",
        "plt.show()"
      ],
      "execution_count": 13,
      "outputs": [
        {
          "output_type": "display_data",
          "data": {
            "image/png": "[encoded data removed]",
            "text/plain": [
              "<Figure size 432x288 with 1 Axes>"
            ]
          },
          "metadata": {
            "needs_background": "light"
          }
        }
      ]
    }
  ]
}