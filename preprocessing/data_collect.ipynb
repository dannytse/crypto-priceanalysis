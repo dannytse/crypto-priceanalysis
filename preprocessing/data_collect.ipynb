{
 "cells": [
  {
   "cell_type": "code",
   "execution_count": 1,
   "id": "2bee80eb",
   "metadata": {},
   "outputs": [],
   "source": [
    "# Import statements here:\n",
    "import numpy as np\n",
    "import pandas as pd\n",
    "import seaborn as sns\n",
    "import matplotlib as pyplot"
   ]
  },
  {
   "cell_type": "code",
   "execution_count": 58,
   "id": "0182ca8a",
   "metadata": {},
   "outputs": [],
   "source": [
    "# Crypto\n",
    "\n",
    "import yfinance as yf\n",
    "from yahoofinancials import YahooFinancials\n",
    "\n",
    "start_date = '2019-01-01'\n",
    "end_date = '2021-12-31'\n",
    "\n",
    "coins = ['BTC-USD', 'ETH-USD', 'DOGE-USD', 'SOL1-USD', 'BNB-USD', 'DOT1-USD', 'HEX-USD', 'ALGO-USD']\n",
    "y_financials = YahooFinancials(coins)\n",
    "data = y_financials.get_historical_price_data(start_date=start_date, \n",
    "                                              end_date=end_date, \n",
    "                                              time_interval='daily')\n",
    "frames = []\n",
    "for coin in coins:\n",
    "    frame = pd.DataFrame(data[coin]['prices'])\n",
    "    frame['coin'] = coin\n",
    "    frames.append(frame)\n",
    "data = pd.concat(frames)\n",
    "\n",
    "data.to_csv('crypto_data.csv', index=False)"
   ]
  },
  {
   "cell_type": "code",
   "execution_count": 57,
   "id": "bdd98c0d",
   "metadata": {},
   "outputs": [],
   "source": [
    "# Yahoo Finance\n",
    "# !pip install yfinance\n",
    "# !pip install yahoofinancials\n",
    "import yfinance as yf\n",
    "from yahoofinancials import YahooFinancials\n",
    "\n",
    "start_date = '2019-01-01'\n",
    "end_date = '2021-12-31'\n",
    "\n",
    "table = pd.read_html('https://en.wikipedia.org/wiki/List_of_S%26P_500_companies')\n",
    "sp_500_idxs = table[0]['Symbol'].tolist()\n",
    "\n",
    "y_financials = YahooFinancials(sp_500_idxs)\n",
    "data = y_financials.get_historical_price_data(start_date=start_date, \n",
    "                                              end_date=end_date, \n",
    "                                              time_interval='daily')\n",
    "frames = []\n",
    "for stock in sp_500_idxs:\n",
    "    if 'prices' in data[stock].keys():\n",
    "        frame = pd.DataFrame(data[stock]['prices'])\n",
    "        frame['ticker'] = stock\n",
    "        frames.append(frame)\n",
    "data = pd.concat(frames)\n",
    "data.to_csv('ticker_data.csv', index=False)"
   ]
  }
 ],
 "metadata": {
  "kernelspec": {
   "display_name": "Python 3",
   "language": "python",
   "name": "python3"
  },
  "language_info": {
   "codemirror_mode": {
    "name": "ipython",
    "version": 3
   },
   "file_extension": ".py",
   "mimetype": "text/x-python",
   "name": "python",
   "nbconvert_exporter": "python",
   "pygments_lexer": "ipython3",
   "version": "3.7.6"
  }
 },
 "nbformat": 4,
 "nbformat_minor": 5
}
